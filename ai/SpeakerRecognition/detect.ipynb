{
 "cells": [
  {
   "cell_type": "code",
   "execution_count": 1,
   "metadata": {},
   "outputs": [],
   "source": [
    "import os\n",
    "import torch\n",
    "import torchaudio\n",
    "import librosa\n",
    "import numpy as np\n",
    "from torch import nn\n",
    "from torch.utils.data import Dataset, DataLoader\n",
    "from sklearn.model_selection import train_test_split\n",
    "from sklearn.metrics import accuracy_score, classification_report\n",
    "from collections import Counter\n",
    "import torch.nn.functional as F"
   ]
  },
  {
   "cell_type": "code",
   "execution_count": 2,
   "metadata": {},
   "outputs": [
    {
     "data": {
      "text/plain": [
       "TransformerSpeakerID(\n",
       "  (embedding): Linear(in_features=256, out_features=64, bias=True)\n",
       "  (transformer_encoder): TransformerEncoder(\n",
       "    (layers): ModuleList(\n",
       "      (0): TransformerEncoderLayer(\n",
       "        (self_attn): MultiheadAttention(\n",
       "          (out_proj): NonDynamicallyQuantizableLinear(in_features=64, out_features=64, bias=True)\n",
       "        )\n",
       "        (linear1): Linear(in_features=64, out_features=2048, bias=True)\n",
       "        (dropout): Dropout(p=0.3, inplace=False)\n",
       "        (linear2): Linear(in_features=2048, out_features=64, bias=True)\n",
       "        (norm1): LayerNorm((64,), eps=1e-05, elementwise_affine=True)\n",
       "        (norm2): LayerNorm((64,), eps=1e-05, elementwise_affine=True)\n",
       "        (dropout1): Dropout(p=0.3, inplace=False)\n",
       "        (dropout2): Dropout(p=0.3, inplace=False)\n",
       "      )\n",
       "    )\n",
       "  )\n",
       "  (fc): Linear(in_features=64, out_features=4, bias=True)\n",
       ")"
      ]
     },
     "execution_count": 2,
     "metadata": {},
     "output_type": "execute_result"
    }
   ],
   "source": [
    "speakers = ['dung', 'huy', 'khoa', 'thuong']\n",
    "device = torch.device('cuda' if torch.cuda.is_available() else 'cpu')\n",
    "\n",
    "def extract_mel_spectrogram(waveform, sr=16000, n_mels=256, hop_length=128, n_fft=2048, max_length=64):\n",
    "    if waveform.ndim == 2:\n",
    "        waveform = waveform.mean(axis=0)\n",
    "    mel_spec = librosa.feature.melspectrogram(y=waveform, sr=sr, n_mels=n_mels, hop_length=hop_length, n_fft=n_fft)\n",
    "    mel_spec_db = librosa.power_to_db(mel_spec, ref=np.max)\n",
    "    mel_spec_db = (mel_spec_db - mel_spec_db.mean()) / mel_spec_db.std()\n",
    "    if mel_spec_db.shape[1] > max_length:\n",
    "        mel_spec_db = mel_spec_db[:, :max_length]\n",
    "    elif mel_spec_db.shape[1] < max_length:\n",
    "        mel_spec_db = np.pad(mel_spec_db, ((0, 0), (0, max_length - mel_spec_db.shape[1])), mode='constant')\n",
    "    return mel_spec_db\n",
    "\n",
    "class TransformerSpeakerID(nn.Module):\n",
    "    def __init__(self, input_dim, num_classes, num_heads=2, num_layers=1, hidden_dim=64, dropout=0.3):\n",
    "        super(TransformerSpeakerID, self).__init__()\n",
    "        self.embedding = nn.Linear(input_dim, hidden_dim)\n",
    "        encoder_layer = nn.TransformerEncoderLayer(d_model=hidden_dim, nhead=num_heads, dropout=dropout, batch_first=True)\n",
    "        self.transformer_encoder = nn.TransformerEncoder(encoder_layer, num_layers=num_layers)\n",
    "        self.fc = nn.Linear(hidden_dim, num_classes)\n",
    "\n",
    "    def forward(self, x):\n",
    "        x = x.permute(0, 2, 1)\n",
    "        x = self.embedding(x)\n",
    "        x = self.transformer_encoder(x)\n",
    "        x = x.mean(dim=1)\n",
    "        x = self.fc(x)\n",
    "        return x\n",
    "\n",
    "def predict_speaker(audio_file, model, device):\n",
    "    waveform, sample_rate = torchaudio.load(audio_file)\n",
    "    mel_spec = extract_mel_spectrogram(waveform.numpy().squeeze())\n",
    "    mel_spec = torch.tensor(mel_spec).float().unsqueeze(0).to(device)  \n",
    "\n",
    "    model.eval()\n",
    "    with torch.no_grad():\n",
    "        output = model(mel_spec)  # Logits\n",
    "        probabilities = F.softmax(output, dim=1)  # Chuyển thành xác suất\n",
    "        pred = torch.argmax(probabilities, dim=1).item()  # Nhãn dự đoán\n",
    "        prob_list = probabilities[0].cpu().numpy()  # Danh sách xác suất\n",
    "\n",
    "    return speakers[pred], prob_list\n",
    "\n",
    "# Tải mô hình\n",
    "input_dim = 256  # n_mels\n",
    "num_classes = len(speakers)\n",
    "model = TransformerSpeakerID(input_dim=input_dim, num_classes=num_classes).to(device)\n",
    "# model.load_state_dict(torch.load('/media/thuongnv/New Volume/Code/Github/voice-controlled-smart-home/ai/SpeakerRecognition/speaker_recognition_full_model.pth'))\n",
    "model = torch.load('/media/thuongnv/New Volume/Code/Github/voice-controlled-smart-home/ai/SpeakerRecognition/speaker_recognition_full_model.pth', weights_only=False)\n",
    "model.eval()\n"
   ]
  },
  {
   "cell_type": "code",
   "execution_count": null,
   "metadata": {},
   "outputs": [
    {
     "name": "stdout",
     "output_type": "stream",
     "text": [
      "Predicted speaker: thuong\n",
      "Probabilities:\n",
      "dung: 1.09%\n",
      "huy: 0.05%\n",
      "khoa: 0.02%\n",
      "thuong: 98.84%\n"
     ]
    }
   ],
   "source": [
    "\n",
    "audio_file = '/media/thuongnv/New Volume/Code/Github/voice-controlled-smart-home/ai/SpeakerRecognition/dataset/thuong/chunk_4.wav'  \n",
    "predicted_speaker, probabilities = predict_speaker(audio_file, model, device)\n",
    "\n",
    "print(f'Predicted speaker: {predicted_speaker}')\n",
    "print('Probabilities:')\n",
    "for speaker, prob in zip(speakers, probabilities):\n",
    "    print(f'{speaker}: {prob*100:.2f}%')"
   ]
  },
  {
   "cell_type": "code",
   "execution_count": 12,
   "metadata": {},
   "outputs": [
    {
     "name": "stdout",
     "output_type": "stream",
     "text": [
      "Recording...\n",
      "Saved recording to recorded.wav\n",
      "Predicted speaker: khoa\n",
      "Probabilities:\n",
      "dung: 0.05%\n",
      "huy: 6.90%\n",
      "khoa: 92.67%\n",
      "thuong: 0.38%\n"
     ]
    }
   ],
   "source": [
    "import sounddevice as sd\n",
    "from scipy.io.wavfile import write\n",
    "import numpy as np\n",
    "import time\n",
    "\n",
    "def record_audio(filename='recorded.wav', duration=3, fs=16000):\n",
    "    print(\"Recording...\")\n",
    "    audio = sd.rec(int(duration * fs), samplerate=fs, channels=1, dtype='int16')\n",
    "    sd.wait()\n",
    "    write(filename, fs, audio)\n",
    "    print(f\"Saved recording to {filename}\")\n",
    "    return filename\n",
    "\n",
    "def recognize_speaker(filename, model, device, speakers):\n",
    "    predicted_speaker, probabilities = predict_speaker(filename, model, device)\n",
    "\n",
    "    print(f'Predicted speaker: {predicted_speaker}')\n",
    "    print('Probabilities:')\n",
    "    for speaker, prob in zip(speakers, probabilities):\n",
    "        print(f'{speaker}: {prob * 100:.2f}%')\n",
    "\n",
    "if __name__ == \"__main__\":\n",
    "    duration_seconds = 3\n",
    "    output_file = \"recorded.wav\"\n",
    "    \n",
    "    recorded_file = record_audio(output_file, duration=duration_seconds)\n",
    "    recognize_speaker(recorded_file, model, device, speakers)\n"
   ]
  }
 ],
 "metadata": {
  "kernelspec": {
   "display_name": "venv",
   "language": "python",
   "name": "python3"
  },
  "language_info": {
   "codemirror_mode": {
    "name": "ipython",
    "version": 3
   },
   "file_extension": ".py",
   "mimetype": "text/x-python",
   "name": "python",
   "nbconvert_exporter": "python",
   "pygments_lexer": "ipython3",
   "version": "3.12.7"
  }
 },
 "nbformat": 4,
 "nbformat_minor": 2
}
